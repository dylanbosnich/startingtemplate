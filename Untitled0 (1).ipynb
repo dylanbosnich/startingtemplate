import yfinance as yf
import pandas as pd
from datetime import datetime
import pytz

class Candle:
    def __init__(self, time, open_, high, low, close):
        self.time = time
        self.open = float(open_)
        self.high = float(high)
        self.low = float(low)
        self.close = float(close)

    def __str__(self):
        return f"Candle({self.time}, O:{self.open}, H:{self.high}, L:{self.low}, C:{self.close})"

def fetch_ohlc_data(ticker: str, interval: str, lookback_days: int = 5) -> pd.DataFrame:
    data = yf.download(
        tickers=ticker,
        period=f"{lookback_days}d",
        interval=interval,
        progress=False
    )

    if data.index.tz is not None:
        data.index = data.index.tz_convert('America/New_York')
    else:
        data.index = data.index.tz_localize('UTC').tz_convert('America/New_York')

    return data

if __name__ == "__main__":
    symbol = "EURUSD=X"  # Fixed ticker
    interval = "15m"
    lookback_days = 59

    df = fetch_ohlc_data(symbol, interval, lookback_days)
    print(df.head())
