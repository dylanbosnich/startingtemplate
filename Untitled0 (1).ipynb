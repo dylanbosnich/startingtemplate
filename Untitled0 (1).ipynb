{
  "nbformat": 4,
  "nbformat_minor": 0,
  "metadata": {
    "colab": {
      "provenance": []
    },
    "kernelspec": {
      "name": "python3",
      "display_name": "Python 3"
    },
    "language_info": {
      "name": "python"
    }
  },
  "cells": [
    {
      "cell_type": "code",
      "execution_count": 2,
      "metadata": {
        "colab": {
          "base_uri": "https://localhost:8080/"
        },
        "id": "cpc75_JYJP2Q",
        "outputId": "d6c2003e-36b3-4eb2-a602-197ed25af7b1"
      },
      "outputs": [
        {
          "output_type": "stream",
          "name": "stderr",
          "text": [
            "/tmp/ipython-input-2-89255032.py:18: FutureWarning: YF.download() has changed argument auto_adjust default to True\n",
            "  data = yf.download(\n"
          ]
        }
      ],
      "source": [
        "import yfinance as yf\n",
        "import pandas as pd\n",
        "from datetime import datetime\n",
        "import pytz\n",
        "\n",
        "class Candle:\n",
        "    def __init__(self, time, open_, high, low, close):\n",
        "        self.time = time\n",
        "        self.open = float(open_)\n",
        "        self.high = float(high)\n",
        "        self.low = float(low)\n",
        "        self.close = float(close)\n",
        "\n",
        "    def __str__(self):\n",
        "        return f\"Candle({self.time}, O:{self.open}, H:{self.high}, L:{self.low}, C:{self.close})\"\n",
        "\n",
        "def fetch_ohlc_data(ticker: str, interval: str, lookback_days: int = 5) -> pd.DataFrame:\n",
        "    data = yf.download(\n",
        "        tickers=ticker,\n",
        "        period=f\"{lookback_days}d\",\n",
        "        interval=interval,\n",
        "        progress=False\n",
        "    )\n",
        "\n",
        "    if data.index.tz is not None:\n",
        "        data.index = data.index.tz_convert('America/New_York')\n",
        "    else:\n",
        "        data.index = data.index.tz_localize('UTC').tz_convert('America/New_York')\n",
        "\n",
        "    return data\n",
        "\n",
        "if __name__ == \"__main__\":\n",
        "    symbol = \"ES=F\"\n",
        "    interval = \"15m\"\n",
        "    lookback_days = 5\n",
        "\n",
        "    df = fetch_ohlc_data(symbol, interval, lookback_days)\n"
      ]
    }
  ]
}